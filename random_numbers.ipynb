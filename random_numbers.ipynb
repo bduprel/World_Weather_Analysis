{
 "cells": [
  {
   "cell_type": "code",
   "execution_count": 1,
   "id": "c3dd0955",
   "metadata": {},
   "outputs": [],
   "source": [
    "# Import random module\n",
    "import random"
   ]
  },
  {
   "cell_type": "code",
   "execution_count": 8,
   "id": "a701947d",
   "metadata": {},
   "outputs": [
    {
     "data": {
      "text/plain": [
       "-36.53982477960041"
      ]
     },
     "execution_count": 8,
     "metadata": {},
     "output_type": "execute_result"
    }
   ],
   "source": [
    "random_number = random.randint(-90,89) + random.random()\n",
    "random_number"
   ]
  },
  {
   "cell_type": "code",
   "execution_count": 10,
   "id": "75f3cd92",
   "metadata": {},
   "outputs": [
    {
     "data": {
      "text/plain": [
       "[41.59923589743147,\n",
       " -65.77913306843087,\n",
       " 37.030021052174874,\n",
       " 25.675661662203076,\n",
       " 3.168019602478733,\n",
       " 82.79962316755915,\n",
       " -84.11821909365875,\n",
       " 49.205729353842635,\n",
       " -37.92346307139571,\n",
       " 82.96982315268993]"
      ]
     },
     "execution_count": 10,
     "metadata": {},
     "output_type": "execute_result"
    }
   ],
   "source": [
    "x = 1\n",
    "latitudes = []\n",
    "while x < 11:\n",
    "    random_lat = random.randint(-90, 89) + random.random()\n",
    "    latitudes.append(random_lat)\n",
    "    x += 1\n",
    "\n",
    "latitudes"
   ]
  },
  {
   "cell_type": "code",
   "execution_count": 11,
   "id": "83aaf45e",
   "metadata": {},
   "outputs": [
    {
     "data": {
      "text/plain": [
       "-5"
      ]
     },
     "execution_count": 11,
     "metadata": {},
     "output_type": "execute_result"
    }
   ],
   "source": [
    "random.randrange(-90, 90, step=1)"
   ]
  },
  {
   "cell_type": "code",
   "execution_count": 12,
   "id": "5f8a53db",
   "metadata": {},
   "outputs": [
    {
     "data": {
      "text/plain": [
       "51"
      ]
     },
     "execution_count": 12,
     "metadata": {},
     "output_type": "execute_result"
    }
   ],
   "source": [
    "random.randrange(-90, 90, step=3)"
   ]
  },
  {
   "cell_type": "code",
   "execution_count": 13,
   "id": "85377616",
   "metadata": {},
   "outputs": [
    {
     "data": {
      "text/plain": [
       "-27.226000931346867"
      ]
     },
     "execution_count": 13,
     "metadata": {},
     "output_type": "execute_result"
    }
   ],
   "source": [
    "random.uniform(-90, 90)"
   ]
  },
  {
   "cell_type": "code",
   "execution_count": 14,
   "id": "22064f67",
   "metadata": {},
   "outputs": [],
   "source": [
    "# Import the NumPy module.\n",
    "import numpy as np"
   ]
  },
  {
   "cell_type": "code",
   "execution_count": 15,
   "id": "f1791f4c",
   "metadata": {},
   "outputs": [
    {
     "data": {
      "text/plain": [
       "-86.48475259145518"
      ]
     },
     "execution_count": 15,
     "metadata": {},
     "output_type": "execute_result"
    }
   ],
   "source": [
    "np.random.uniform(-90.000, 90.000)"
   ]
  },
  {
   "cell_type": "code",
   "execution_count": 16,
   "id": "f589df76",
   "metadata": {},
   "outputs": [
    {
     "data": {
      "text/plain": [
       "array([-33.27884059,  23.79022734,  37.11064159, -41.9912212 ,\n",
       "       -70.00701132,  63.73012242,  11.1641315 , -22.75361932,\n",
       "       -15.19862954, -43.54674998,  89.39881578, -16.90317196,\n",
       "        76.93469879, -64.56413703,  37.03154873, -62.66132695,\n",
       "       -15.36726288, -54.44425813, -69.15959793,   3.70468705,\n",
       "       -49.73954265,  45.74722096,  21.21541417,  40.74366811,\n",
       "        36.83668822, -70.47057119,  10.07798652, -39.58839116,\n",
       "       -72.6939495 ,  -8.48555846,  75.50613867,  58.69989164,\n",
       "       -88.57777032, -75.83533588,  88.27726729,   3.36226731,\n",
       "       -17.10372262, -78.24868726, -10.92671376,  34.93837326,\n",
       "       -17.77843206,  81.70648692,  86.2433307 , -51.73249913,\n",
       "        26.25807275, -34.3526649 ,  33.70637044,  50.92665591,\n",
       "       -50.26097836, -85.9797648 ])"
      ]
     },
     "execution_count": 16,
     "metadata": {},
     "output_type": "execute_result"
    }
   ],
   "source": [
    "np.random.uniform(-90.000, 90.000, size=50)"
   ]
  },
  {
   "cell_type": "code",
   "execution_count": 17,
   "id": "fbd5d32f",
   "metadata": {},
   "outputs": [],
   "source": [
    "# Import timeit.\n",
    "import timeit"
   ]
  },
  {
   "cell_type": "code",
   "execution_count": 18,
   "id": "9b962bbc",
   "metadata": {},
   "outputs": [
    {
     "name": "stdout",
     "output_type": "stream",
     "text": [
      "21.6 µs ± 3.2 µs per loop (mean ± std. dev. of 7 runs, 10,000 loops each)\n"
     ]
    }
   ],
   "source": [
    "%timeit np.random.uniform(-90.000, 90.000, size=1500)"
   ]
  },
  {
   "cell_type": "code",
   "execution_count": 22,
   "id": "5d0da4bd",
   "metadata": {},
   "outputs": [
    {
     "name": "stdout",
     "output_type": "stream",
     "text": [
      "2.78 ms ± 243 µs per loop (mean ± std. dev. of 7 runs, 100 loops each)\n"
     ]
    }
   ],
   "source": [
    "def latitudes(size):\n",
    "    latitudes = []\n",
    "    x = 0\n",
    "    while x < (size):\n",
    "        random_lat = random.randint(-90, 90) + random.random()\n",
    "        latitudes.append(random_lat)\n",
    "        x += 1\n",
    "    return latitudes\n",
    "# Call the function with 1500.\n",
    "%timeit latitudes(1500)"
   ]
  },
  {
   "cell_type": "code",
   "execution_count": 21,
   "id": "0caa1504",
   "metadata": {},
   "outputs": [
    {
     "name": "stdout",
     "output_type": "stream",
     "text": [
      "3 ms ± 348 µs per loop (mean ± std. dev. of 7 runs, 100 loops each)\n"
     ]
    }
   ],
   "source": [
    "def longitudes(size):\n",
    "    longitudes = []\n",
    "    x = 0\n",
    "    while x < (size):\n",
    "        random_lat = random.randint(-90, 90) + random.random()\n",
    "        longitudes.append(random_lat)\n",
    "        x += 1\n",
    "    return longitudes\n",
    "# Call the function with 1500.\n",
    "%timeit longitudes(1500)"
   ]
  },
  {
   "cell_type": "code",
   "execution_count": null,
   "id": "677c0d8e",
   "metadata": {},
   "outputs": [],
   "source": []
  }
 ],
 "metadata": {
  "kernelspec": {
   "display_name": "PythonData",
   "language": "python",
   "name": "pythondata"
  },
  "language_info": {
   "codemirror_mode": {
    "name": "ipython",
    "version": 3
   },
   "file_extension": ".py",
   "mimetype": "text/x-python",
   "name": "python",
   "nbconvert_exporter": "python",
   "pygments_lexer": "ipython3",
   "version": "3.9.12"
  }
 },
 "nbformat": 4,
 "nbformat_minor": 5
}
